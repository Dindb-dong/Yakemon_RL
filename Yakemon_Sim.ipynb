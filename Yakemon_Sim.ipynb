{
 "cells": [
  {
   "cell_type": "markdown",
   "metadata": {},
   "source": [
    "# Yakemon Battle Simulation & Reinforcement Learning\n",
    "\n",
    "이 노트북은 다음과 같은 목적으로 사용됩니다:\n",
    "\n",
    "1. 배틀 시뮬레이션 실행\n",
    "2. 강화학습 모델 학습\n",
    "3. 학습된 모델 저장\n",
    "4. 모델 성능 평가 및 시각화\n"
   ]
  },
  {
   "cell_type": "code",
   "execution_count": 2,
   "metadata": {},
   "outputs": [],
   "source": [
    "# 필요한 라이브러리 임포트\n",
    "import numpy as np\n",
    "import pandas as pd\n",
    "import matplotlib.pyplot as plt\n",
    "import seaborn as sns\n",
    "import torch\n",
    "import torch.nn as nn\n",
    "import torch.optim as optim\n",
    "from torch.distributions import Categorical\n",
    "import gym\n",
    "from IPython.display import clear_output\n",
    "import time"
   ]
  },
  {
   "cell_type": "markdown",
   "metadata": {},
   "source": [
    "## 1. 환경 설정 및 시뮬레이션 준비\n"
   ]
  },
  {
   "cell_type": "code",
   "execution_count": 3,
   "metadata": {},
   "outputs": [],
   "source": [
    "# 시뮬레이션 파라미터 설정\n",
    "NUM_EPISODES = 1000\n",
    "MAX_STEPS = 100\n",
    "LEARNING_RATE = 0.001\n",
    "GAMMA = 0.99\n",
    "\n",
    "# 시각화를 위한 리스트\n",
    "episode_rewards = []\n",
    "episode_lengths = []"
   ]
  },
  {
   "cell_type": "markdown",
   "metadata": {},
   "source": [
    "## 2-1. 배틀 환경 설정\n"
   ]
  },
  {
   "cell_type": "code",
   "execution_count": null,
   "metadata": {},
   "outputs": [],
   "source": [
    "def setup_battle_environment():\n",
    "    # 1. 포켓몬 데이터 로드\n",
    "    from utils.battle_logics.create_battle_pokemon import create_battle_pokemon\n",
    "    from context.battle_store import store\n",
    "    from context.duration_store import duration_store\n",
    "    \n",
    "    # 2. 랜덤 포켓몬 생성 (예시)\n",
    "    my_team = []\n",
    "    enemy_team = []\n",
    "    for _ in range(3):  # 3마리씩 팀 구성\n",
    "        my_pokemon = create_battle_pokemon(random_pokemon())  # random_pokemon() 함수는 구현 필요\n",
    "        enemy_pokemon = create_battle_pokemon(random_pokemon())\n",
    "        my_team.append(my_pokemon)\n",
    "        enemy_team.append(enemy_pokemon)\n",
    "    \n",
    "    # 3. 배틀 스토어 초기화\n",
    "    store.set_my_team(my_team)\n",
    "    store.set_enemy_team(enemy_team)\n",
    "    store.set_active_my(0)\n",
    "    store.set_active_enemy(0)\n",
    "    store.set_turn(1)\n",
    "    \n",
    "    # 4. Duration 스토어 초기화\n",
    "    duration_store.state = {\n",
    "        \"my_effects\": [],\n",
    "        \"enemy_effects\": [],\n",
    "        \"public_effects\": [],\n",
    "        \"my_env_effects\": [],\n",
    "        \"enemy_env_effects\": []\n",
    "    }\n",
    "    \n",
    "    return store, duration_store"
   ]
  },
  {
   "cell_type": "markdown",
   "metadata": {},
   "source": [
    "## 2-2. 배틀 시뮬레이션\n"
   ]
  },
  {
   "cell_type": "code",
   "execution_count": null,
   "metadata": {},
   "outputs": [],
   "source": [
    "from RL import get_state_vector\n",
    "from utils.battle_logics.battle_sequence import battle_sequence\n",
    "\n",
    "\n",
    "async def run_battle_simulation():\n",
    "    store, duration_store = setup_battle_environment()\n",
    "    \n",
    "    while True:\n",
    "        # 1. 현재 상태 벡터 추출\n",
    "        state = store.get_state()\n",
    "        state_vector = get_state_vector(\n",
    "            state[\"my_team\"],\n",
    "            state[\"enemy_team\"],\n",
    "            state[\"active_my\"],\n",
    "            state[\"active_enemy\"],\n",
    "            state[\"public_env\"],\n",
    "            state[\"my_env\"],\n",
    "            state[\"enemy_env\"],\n",
    "            state[\"turn\"],\n",
    "            duration_store.state[\"my_effects\"],\n",
    "            duration_store.state[\"enemy_effects\"]\n",
    "        )\n",
    "        \n",
    "        # 2. 모델로부터 액션 선택 (이 부분은 나중에 구현)\n",
    "        my_action = model.select_action(state_vector)\n",
    "        enemy_action = random_action()  # 랜덤 액션 (나중에 다른 모델로 대체 가능)\n",
    "        \n",
    "        # 3. 배틀 시퀀스 실행\n",
    "        await battle_sequence(my_action, enemy_action)\n",
    "        \n",
    "        # 4. 게임 종료 체크\n",
    "        my_team = store.get_team(\"my\")\n",
    "        enemy_team = store.get_team(\"enemy\")\n",
    "        \n",
    "        if all(p.current_hp <= 0 for p in my_team):\n",
    "            print(\"상대방 승리!\")\n",
    "            break\n",
    "        if all(p.current_hp <= 0 for p in enemy_team):\n",
    "            print(\"내 승리!\")\n",
    "            break\n",
    "            \n",
    "        # 5. 턴 증가\n",
    "        store.set_turn(state[\"turn\"] + 1)"
   ]
  },
  {
   "cell_type": "markdown",
   "metadata": {},
   "source": [
    "## 3. 강화학습 모델 정의\n"
   ]
  },
  {
   "cell_type": "code",
   "execution_count": null,
   "metadata": {},
   "outputs": [],
   "source": [
    "class PolicyNetwork(nn.Module):\n",
    "    def __init__(self, input_size, hidden_size, output_size):\n",
    "        super(PolicyNetwork, self).__init__()\n",
    "        self.fc1 = nn.Linear(input_size, hidden_size)\n",
    "        self.fc2 = nn.Linear(hidden_size, output_size)\n",
    "        \n",
    "    def forward(self, x):\n",
    "        x = torch.relu(self.fc1(x))\n",
    "        x = self.fc2(x)\n",
    "        return torch.softmax(x, dim=-1)"
   ]
  },
  {
   "cell_type": "markdown",
   "metadata": {},
   "source": [
    "## 4. 모델 학습\n"
   ]
  },
  {
   "cell_type": "code",
   "execution_count": null,
   "metadata": {},
   "outputs": [],
   "source": [
    "def train_model():\n",
    "    # TODO: 모델 학습 로직 구현\n",
    "    pass"
   ]
  },
  {
   "cell_type": "markdown",
   "metadata": {},
   "source": [
    "## 5. 모델 저장 및 로드\n"
   ]
  },
  {
   "cell_type": "code",
   "execution_count": null,
   "metadata": {},
   "outputs": [],
   "source": [
    "def save_model(model, path):\n",
    "    torch.save(model.state_dict(), path)\n",
    "\n",
    "def load_model(model, path):\n",
    "    model.load_state_dict(torch.load(path))\n",
    "    return model"
   ]
  },
  {
   "cell_type": "markdown",
   "metadata": {},
   "source": [
    "## 6. 성능 평가 및 시각화\n"
   ]
  },
  {
   "cell_type": "code",
   "execution_count": null,
   "metadata": {},
   "outputs": [],
   "source": [
    "def plot_training_results():\n",
    "    plt.figure(figsize=(12, 5))\n",
    "    \n",
    "    plt.subplot(1, 2, 1)\n",
    "    plt.plot(episode_rewards)\n",
    "    plt.title('Episode Rewards')\n",
    "    plt.xlabel('Episode')\n",
    "    plt.ylabel('Reward')\n",
    "    \n",
    "    plt.subplot(1, 2, 2)\n",
    "    plt.plot(episode_lengths)\n",
    "    plt.title('Episode Lengths')\n",
    "    plt.xlabel('Episode')\n",
    "    plt.ylabel('Length')\n",
    "    \n",
    "    plt.tight_layout()\n",
    "    plt.show()"
   ]
  }
 ],
 "metadata": {
  "kernelspec": {
   "display_name": "base",
   "language": "python",
   "name": "python3"
  },
  "language_info": {
   "codemirror_mode": {
    "name": "ipython",
    "version": 3
   },
   "file_extension": ".py",
   "mimetype": "text/x-python",
   "name": "python",
   "nbconvert_exporter": "python",
   "pygments_lexer": "ipython3",
   "version": "3.11.7"
  }
 },
 "nbformat": 4,
 "nbformat_minor": 4
}
