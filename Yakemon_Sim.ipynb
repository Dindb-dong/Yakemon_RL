{
 "cells": [
  {
   "cell_type": "markdown",
   "metadata": {},
   "source": [
    "# Yakemon Battle Simulation & Reinforcement Learning\n",
    "\n",
    "이 노트북은 다음과 같은 목적으로 사용됩니다:\n",
    "\n",
    "1. 배틀 시뮬레이션 실행\n",
    "2. 강화학습 모델 학습\n",
    "3. 학습된 모델 저장\n",
    "4. 모델 성능 평가 및 시각화\n"
   ]
  },
  {
   "cell_type": "code",
   "execution_count": 2,
   "metadata": {},
   "outputs": [],
   "source": [
    "# 필요한 라이브러리 임포트\n",
    "import numpy as np\n",
    "import pandas as pd\n",
    "import matplotlib.pyplot as plt\n",
    "import seaborn as sns\n",
    "import torch\n",
    "import torch.nn as nn\n",
    "import torch.optim as optim\n",
    "from torch.distributions import Categorical\n",
    "import gym\n",
    "from IPython.display import clear_output\n",
    "import time"
   ]
  },
  {
   "cell_type": "markdown",
   "metadata": {},
   "source": [
    "## 1. 환경 설정 및 시뮬레이션 준비\n"
   ]
  },
  {
   "cell_type": "code",
   "execution_count": 3,
   "metadata": {},
   "outputs": [],
   "source": [
    "# 시뮬레이션 파라미터 설정\n",
    "NUM_EPISODES = 1000\n",
    "MAX_STEPS = 100\n",
    "LEARNING_RATE = 0.001\n",
    "GAMMA = 0.99\n",
    "\n",
    "# 시각화를 위한 리스트\n",
    "episode_rewards = []\n",
    "episode_lengths = []"
   ]
  },
  {
   "cell_type": "markdown",
   "metadata": {},
   "source": [
    "## 2-1. 배틀 환경 설정\n"
   ]
  },
  {
   "cell_type": "code",
   "execution_count": null,
   "metadata": {},
   "outputs": [],
   "source": [
    "def setup_battle_environment():\n",
    "    # 1. 포켓몬 데이터 로드\n",
    "    from utils.battle_logics.create_battle_pokemon import create_battle_pokemon\n",
    "    from context.battle_store import store\n",
    "    from context.duration_store import duration_store\n",
    "    \n",
    "    # 2. 랜덤 포켓몬 생성 (예시)\n",
    "    my_team = []\n",
    "    enemy_team = []\n",
    "    for _ in range(3):  # 3마리씩 팀 구성\n",
    "        my_pokemon = create_battle_pokemon(random_pokemon())  # random_pokemon() 함수는 구현 필요\n",
    "        enemy_pokemon = create_battle_pokemon(random_pokemon())\n",
    "        my_team.append(my_pokemon)\n",
    "        enemy_team.append(enemy_pokemon)\n",
    "    \n",
    "    # 3. 배틀 스토어 초기화\n",
    "    store.set_my_team(my_team)\n",
    "    store.set_enemy_team(enemy_team)\n",
    "    store.set_active_my(0)\n",
    "    store.set_active_enemy(0)\n",
    "    store.set_turn(1)\n",
    "    \n",
    "    # 4. Duration 스토어 초기화\n",
    "    duration_store.state = {\n",
    "        \"my_effects\": [],\n",
    "        \"enemy_effects\": [],\n",
    "        \"public_effects\": [],\n",
    "        \"my_env_effects\": [],\n",
    "        \"enemy_env_effects\": []\n",
    "    }\n",
    "    \n",
    "    return store, duration_store"
   ]
  },
  {
   "cell_type": "markdown",
   "metadata": {},
   "source": [
    "## 2-2. 배틀 시뮬레이션\n"
   ]
  },
  {
   "cell_type": "code",
   "execution_count": null,
   "metadata": {},
   "outputs": [],
   "source": []
  },
  {
   "cell_type": "markdown",
   "metadata": {},
   "source": [
    "## 3. 강화학습 모델 정의\n"
   ]
  },
  {
   "cell_type": "code",
   "execution_count": null,
   "metadata": {},
   "outputs": [],
   "source": [
    "class PolicyNetwork(nn.Module):\n",
    "    def __init__(self, input_size, hidden_size, output_size):\n",
    "        super(PolicyNetwork, self).__init__()\n",
    "        self.fc1 = nn.Linear(input_size, hidden_size)\n",
    "        self.fc2 = nn.Linear(hidden_size, output_size)\n",
    "        \n",
    "    def forward(self, x):\n",
    "        x = torch.relu(self.fc1(x))\n",
    "        x = self.fc2(x)\n",
    "        return torch.softmax(x, dim=-1)"
   ]
  },
  {
   "cell_type": "markdown",
   "metadata": {},
   "source": [
    "## 4. 모델 학습\n"
   ]
  },
  {
   "cell_type": "code",
   "execution_count": null,
   "metadata": {},
   "outputs": [],
   "source": [
    "def train_model():\n",
    "    # TODO: 모델 학습 로직 구현\n",
    "    pass"
   ]
  },
  {
   "cell_type": "markdown",
   "metadata": {},
   "source": [
    "## 5. 모델 저장 및 로드\n"
   ]
  },
  {
   "cell_type": "code",
   "execution_count": null,
   "metadata": {},
   "outputs": [],
   "source": [
    "def save_model(model, path):\n",
    "    torch.save(model.state_dict(), path)\n",
    "\n",
    "def load_model(model, path):\n",
    "    model.load_state_dict(torch.load(path))\n",
    "    return model"
   ]
  },
  {
   "cell_type": "markdown",
   "metadata": {},
   "source": [
    "## 6. 성능 평가 및 시각화\n"
   ]
  },
  {
   "cell_type": "code",
   "execution_count": null,
   "metadata": {},
   "outputs": [],
   "source": [
    "def plot_training_results():\n",
    "    plt.figure(figsize=(12, 5))\n",
    "    \n",
    "    plt.subplot(1, 2, 1)\n",
    "    plt.plot(episode_rewards)\n",
    "    plt.title('Episode Rewards')\n",
    "    plt.xlabel('Episode')\n",
    "    plt.ylabel('Reward')\n",
    "    \n",
    "    plt.subplot(1, 2, 2)\n",
    "    plt.plot(episode_lengths)\n",
    "    plt.title('Episode Lengths')\n",
    "    plt.xlabel('Episode')\n",
    "    plt.ylabel('Length')\n",
    "    \n",
    "    plt.tight_layout()\n",
    "    plt.show()"
   ]
  }
 ],
 "metadata": {
  "kernelspec": {
   "display_name": "base",
   "language": "python",
   "name": "python3"
  },
  "language_info": {
   "codemirror_mode": {
    "name": "ipython",
    "version": 3
   },
   "file_extension": ".py",
   "mimetype": "text/x-python",
   "name": "python",
   "nbconvert_exporter": "python",
   "pygments_lexer": "ipython3",
   "version": "3.11.7"
  }
 },
 "nbformat": 4,
 "nbformat_minor": 4
}
