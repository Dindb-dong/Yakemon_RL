{
 "cells": [
  {
   "cell_type": "code",
   "execution_count": null,
   "id": "329238a3",
   "metadata": {},
   "outputs": [],
   "source": [
    "# --- 1. 환경 설치 (Colab에서) ---\n",
    "!pip install torch"
   ]
  },
  {
   "cell_type": "code",
   "execution_count": null,
   "id": "067d241c",
   "metadata": {},
   "outputs": [],
   "source": [
    "# --- 2. 필요한 파일 복사 ---\n",
    "# (여기서는 yakemon_rl_project/ 폴더를 이미 올려놓았다고 가정할게)"
   ]
  },
  {
   "cell_type": "code",
   "execution_count": null,
   "id": "507864fe",
   "metadata": {},
   "outputs": [],
   "source": [
    "# --- 3. 라이브러리 임포트 ---\n",
    "from env.battle_env import YakemonEnv\n",
    "from agent.dddqn_agent import DDDQNAgent\n",
    "from utils.replay_buffer import ReplayBuffer"
   ]
  },
  {
   "cell_type": "code",
   "execution_count": null,
   "id": "e6fabdc3",
   "metadata": {},
   "outputs": [],
   "source": [
    "# --- 4. 환경/에이전트 초기화 ---\n",
    "env = YakemonEnv()\n",
    "state_dim = env.get_state().shape[0]\n",
    "action_dim = 6  # (4 기본 기술 + 2 교체)\n",
    "\n",
    "agent = DDDQNAgent(state_dim, action_dim)\n",
    "buffer = ReplayBuffer(10000)"
   ]
  },
  {
   "cell_type": "code",
   "execution_count": null,
   "id": "4bbc8144",
   "metadata": {},
   "outputs": [],
   "source": [
    "# --- 5. 학습 파라미터 ---\n",
    "episodes = 500\n",
    "batch_size = 32"
   ]
  },
  {
   "cell_type": "code",
   "execution_count": null,
   "id": "234da255",
   "metadata": {},
   "outputs": [],
   "source": [
    "# --- 6. 학습 루프 ---\n",
    "reward_list = []\n",
    "\n",
    "for episode in range(episodes):\n",
    "    state = env.reset()\n",
    "    total_reward = 0\n",
    "    done = False\n",
    "    epsilon = max(0.01, 0.1 - 0.01*(episode/100))\n",
    "\n",
    "    while not done:\n",
    "        action = agent.select_action(state, epsilon)\n",
    "        next_state, reward, done, _ = env.step(action)\n",
    "        buffer.push((state, action, reward, next_state, done))\n",
    "        state = next_state\n",
    "        total_reward += reward\n",
    "\n",
    "        if len(buffer.buffer) >= batch_size:\n",
    "            agent.update(buffer.sample(batch_size))\n",
    "\n",
    "    reward_list.append(total_reward)\n",
    "\n",
    "    if episode % 10 == 0:\n",
    "        print(f\"Episode {episode} - Total Reward: {total_reward:.2f}\")"
   ]
  },
  {
   "cell_type": "code",
   "execution_count": null,
   "id": "4f8bb762",
   "metadata": {},
   "outputs": [],
   "source": [
    "# --- 7. 결과 시각화 (선택) ---\n",
    "import matplotlib.pyplot as plt\n",
    "plt.plot(reward_list)\n",
    "plt.xlabel('Episode')\n",
    "plt.ylabel('Total Reward')\n",
    "plt.title('Yakemon DDDQN Training')\n",
    "plt.show()"
   ]
  }
 ],
 "metadata": {
  "kernelspec": {
   "display_name": "base",
   "language": "python",
   "name": "python3"
  },
  "language_info": {
   "name": "python",
   "version": "3.11.7"
  }
 },
 "nbformat": 4,
 "nbformat_minor": 5
}
