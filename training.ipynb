{
 "cells": [
  {
   "cell_type": "code",
   "execution_count": 1,
   "metadata": {},
   "outputs": [],
   "source": [
    "#!pip install torch numpy matplotlib"
   ]
  },
  {
   "cell_type": "code",
   "execution_count": 2,
   "metadata": {},
   "outputs": [],
   "source": [
    "\n",
    "import os\n",
    "import numpy as np\n",
    "# import torch\n",
    "# import torch.nn as nn\n",
    "# import torch.optim as optim\n",
    "import matplotlib.pyplot as plt\n",
    "# from datetime import datetime\n",
    "import json\n",
    "import random\n",
    "# from collections import deque\n",
    "import asyncio\n",
    "\n",
    "# 환경 관련 import\n",
    "from env.battle_env import YakemonEnv\n",
    "\n",
    "# 모델 관련 import\n",
    "\n",
    "# 유틸리티 관련 import\n",
    "\n",
    "# 에이전트 관련 import\n",
    "from agent.dddqn_agent import DDDQNAgent\n",
    "\n",
    "# RL 관련 import\n",
    "\n",
    "# 데이터 관련 import=\n",
    "\n",
    "# 컨텍스트 관련 import\n",
    "from context.battle_store import store\n",
    "from context.duration_store import duration_store"
   ]
  },
  {
   "cell_type": "code",
   "execution_count": 3,
   "metadata": {},
   "outputs": [],
   "source": [
    "# 전역 변수 초기화\n",
    "battle_store = store\n",
    "duration_store = duration_store\n",
    "\n",
    "# 하이퍼파라미터 설정\n",
    "HYPERPARAMS = {\n",
    "    \"learning_rate\": 0.001,\n",
    "    \"gamma\": 0.99,\n",
    "    \"epsilon_start\": 1.0,\n",
    "    \"epsilon_end\": 0.01,\n",
    "    \"epsilon_decay\": 0.995,\n",
    "    \"batch_size\": 64,\n",
    "    \"memory_size\": 10000,\n",
    "    \"target_update\": 10,\n",
    "    \"num_episodes\": 1000,\n",
    "    \"save_interval\": 100,\n",
    "    \"test_episodes\": 100,\n",
    "    \"state_dim\": 126,  # get_state_vector의 출력 차원\n",
    "    \"action_dim\": 6,   # 4개의 기술 + 2개의 교체\n",
    "}"
   ]
  },
  {
   "cell_type": "code",
   "execution_count": 4,
   "metadata": {},
   "outputs": [],
   "source": [
    "from training import test_agent"
   ]
  },
  {
   "cell_type": "code",
   "execution_count": 5,
   "metadata": {},
   "outputs": [],
   "source": [
    "from training import train_agent"
   ]
  },
  {
   "cell_type": "code",
   "execution_count": null,
   "metadata": {},
   "outputs": [],
   "source": [
    "# 메인 실행 코드\n",
    "if __name__ == \"__main__\":\n",
    "    # 환경 초기화\n",
    "    env = YakemonEnv()  # 실제 게임 환경\n",
    "    state_dim = HYPERPARAMS[\"state_dim\"]\n",
    "    action_dim = HYPERPARAMS[\"action_dim\"]\n",
    "    \n",
    "    # DDDQN 에이전트 생성\n",
    "    ddqn_agent = DDDQNAgent(\n",
    "        state_dim=state_dim,\n",
    "        action_dim=action_dim,\n",
    "        learning_rate=HYPERPARAMS[\"learning_rate\"],\n",
    "        gamma=HYPERPARAMS[\"gamma\"],\n",
    "        epsilon_start=HYPERPARAMS[\"epsilon_start\"],\n",
    "        epsilon_end=HYPERPARAMS[\"epsilon_end\"],\n",
    "        epsilon_decay=HYPERPARAMS[\"epsilon_decay\"]\n",
    "    )\n",
    "    \n",
    "    # DDDQN 에이전트 학습\n",
    "    ddqn_rewards, ddqn_losses = await train_agent(\n",
    "        env=env,\n",
    "        agent=ddqn_agent,\n",
    "        num_episodes=HYPERPARAMS[\"num_episodes\"],\n",
    "        agent_name='ddqn'\n",
    "    )\n",
    "    \n",
    "    # # 학습 결과 시각화\n",
    "    # plot_training_results(\n",
    "    #     rewards_history=ddqn_rewards,\n",
    "    #     losses_history=ddqn_losses,\n",
    "    #     agent_name='DDDQN'\n",
    "    # )\n",
    "    \n",
    "    # 학습된 에이전트 테스트\n",
    "    await test_agent(\n",
    "        env=env,\n",
    "        agent=ddqn_agent,\n",
    "        num_episodes=HYPERPARAMS[\"test_episodes\"]\n",
    "    )"
   ]
  },
  {
   "cell_type": "code",
   "execution_count": 8,
   "metadata": {},
   "outputs": [],
   "source": [
    "# 시각화 함수\n",
    "def plot_training_results(\n",
    "    rewards_history: list,\n",
    "    losses_history: list,\n",
    "    agent_name: str,\n",
    "    save_path: str = 'results'\n",
    ") -> None:\n",
    "    \"\"\"\n",
    "    학습 결과 시각화\n",
    "    \"\"\"\n",
    "    os.makedirs(save_path, exist_ok=True)\n",
    "    \n",
    "    # 보상 그래프\n",
    "    plt.figure(figsize=(10, 5))\n",
    "    plt.plot(rewards_history)\n",
    "    plt.title(f'{agent_name} Training Rewards')\n",
    "    plt.xlabel('Episode')\n",
    "    plt.ylabel('Average Reward')\n",
    "    plt.savefig(os.path.join(save_path, f'{agent_name}_rewards.png'))\n",
    "    plt.show()\n",
    "    \n",
    "    # 손실 그래프\n",
    "    plt.figure(figsize=(10, 5))\n",
    "    plt.plot(losses_history)\n",
    "    plt.title(f'{agent_name} Training Losses')\n",
    "    plt.xlabel('Episode')\n",
    "    plt.ylabel('Average Loss')\n",
    "    plt.savefig(os.path.join(save_path, f'{agent_name}_losses.png'))\n",
    "    plt.show()"
   ]
  }
 ],
 "metadata": {
  "kernelspec": {
   "display_name": "base",
   "language": "python",
   "name": "python3"
  },
  "language_info": {
   "codemirror_mode": {
    "name": "ipython",
    "version": 3
   },
   "file_extension": ".py",
   "mimetype": "text/x-python",
   "name": "python",
   "nbconvert_exporter": "python",
   "pygments_lexer": "ipython3",
   "version": "3.11.7"
  }
 },
 "nbformat": 4,
 "nbformat_minor": 2
}
